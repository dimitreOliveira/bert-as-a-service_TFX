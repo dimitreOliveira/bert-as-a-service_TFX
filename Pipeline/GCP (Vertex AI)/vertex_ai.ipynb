{
 "cells": [
  {
   "cell_type": "markdown",
   "id": "77de6abe",
   "metadata": {},
   "source": [
    "# Setup"
   ]
  },
  {
   "cell_type": "code",
   "execution_count": 1,
   "id": "e755891f",
   "metadata": {},
   "outputs": [
    {
     "name": "stdout",
     "output_type": "stream",
     "text": [
      "Requirement already satisfied: pip in /opt/conda/lib/python3.7/site-packages (21.1.2)\n"
     ]
    }
   ],
   "source": [
    "# Use the latest version of pip.\n",
    "!pip install --upgrade pip\n",
    "# Install tfx and kfp Python packages.\n",
    "!pip install -q --upgrade tfx[kfp]==1.0.0rc1 "
   ]
  },
  {
   "cell_type": "markdown",
   "id": "3ebafdbf",
   "metadata": {},
   "source": [
    "### Automatically restart kernel after installs"
   ]
  },
  {
   "cell_type": "code",
   "execution_count": 2,
   "id": "2bb94661",
   "metadata": {},
   "outputs": [],
   "source": [
    "import sys\n",
    "if not 'google.colab' in sys.modules:\n",
    "  import IPython\n",
    "  app = IPython.Application.instance()\n",
    "  app.kernel.do_shutdown(True)"
   ]
  },
  {
   "cell_type": "markdown",
   "id": "55d34978",
   "metadata": {},
   "source": [
    "## Import packages"
   ]
  },
  {
   "cell_type": "code",
   "execution_count": 1,
   "id": "f3af3c36",
   "metadata": {},
   "outputs": [
    {
     "name": "stderr",
     "output_type": "stream",
     "text": [
      "WARNING:absl:RuntimeParameter is only supported on Cloud-based DAG runner currently.\n"
     ]
    }
   ],
   "source": [
    "import os\n",
    "import urllib\n",
    "import kfp\n",
    "import tfx\n",
    "import tensorflow as tf\n",
    "from kfp.v2.google import client\n",
    "from tfx.proto import trainer_pb2\n",
    "from tfx.orchestration.kubeflow.v2 import kubeflow_v2_dag_runner\n",
    "from pipeline import configs, pipeline"
   ]
  },
  {
   "cell_type": "code",
   "execution_count": 2,
   "id": "10462f55",
   "metadata": {},
   "outputs": [
    {
     "name": "stdout",
     "output_type": "stream",
     "text": [
      "TensorFlow version: 2.5.0\n",
      "TFX version: 1.0.0-rc1\n",
      "KFP version: 1.6.1\n"
     ]
    }
   ],
   "source": [
    "print(f'TensorFlow version: {tf.__version__}')\n",
    "print(f'TFX version: {tfx.__version__}')\n",
    "print('KFP version: {}'.format(kfp.__version__))"
   ]
  },
  {
   "cell_type": "markdown",
   "id": "7d7025b9",
   "metadata": {},
   "source": [
    "**If you are on AI Platform Notebooks**, authenticate with Google Cloud before running the next section, by running\n",
    "\n",
    "`gcloud auth login`\n",
    "\n",
    "**in the Terminal window** (which you can open via **File* > **New** in the menu). You only need to do this once per notebook instance."
   ]
  },
  {
   "cell_type": "code",
   "execution_count": 3,
   "id": "960c3101",
   "metadata": {},
   "outputs": [
    {
     "name": "stdout",
     "output_type": "stream",
     "text": [
      "Updated property [core/project].\n"
     ]
    }
   ],
   "source": [
    "# Set gcloud to use your project.\n",
    "!gcloud config set project {configs.GOOGLE_CLOUD_PROJECT}"
   ]
  },
  {
   "cell_type": "markdown",
   "id": "2699b683",
   "metadata": {},
   "source": [
    "### Download data"
   ]
  },
  {
   "cell_type": "code",
   "execution_count": 4,
   "id": "a8aee414",
   "metadata": {},
   "outputs": [
    {
     "data": {
      "text/plain": [
       "('data/IMDB_dataset.csv', <http.client.HTTPMessage at 0x7f9f6116a4d0>)"
      ]
     },
     "execution_count": 4,
     "metadata": {},
     "output_type": "execute_result"
    }
   ],
   "source": [
    "data_csv_url = 'https://raw.githubusercontent.com/dimitreOliveira/bert-as-a-service_TFX/main/Data/IMDB_5k_dataset.csv'\n",
    "data_csv_filename = 'IMDB_dataset.csv'\n",
    "\n",
    "_data_dir = 'data/'\n",
    "if not os.path.exists(_data_dir):\n",
    "    os.makedirs(_data_dir)\n",
    "\n",
    "# Download data\n",
    "urllib.request.urlretrieve(data_csv_url, f'{_data_dir}{data_csv_filename}')"
   ]
  },
  {
   "cell_type": "code",
   "execution_count": 5,
   "id": "671b323e",
   "metadata": {},
   "outputs": [],
   "source": [
    "_transform_module_file = 'transform_utils.py'\n",
    "_trainer_module_file = 'train_utils.py'\n",
    "\n",
    "_transform_module_path = f'pipeline/{_transform_module_file}'\n",
    "_trainer_module_path = f'pipeline/{_trainer_module_file}'"
   ]
  },
  {
   "cell_type": "markdown",
   "id": "a891debe",
   "metadata": {},
   "source": [
    "Copy the data and module files to GCS which can be accessed from the pipeline components."
   ]
  },
  {
   "cell_type": "code",
   "execution_count": 6,
   "id": "fbf44313",
   "metadata": {},
   "outputs": [
    {
     "name": "stdout",
     "output_type": "stream",
     "text": [
      "Copying file://data/IMDB_dataset.csv [Content-Type=text/csv]...\n",
      "/ [1 files][  6.3 MiB/  6.3 MiB]                                                \n",
      "Operation completed over 1 objects/6.3 MiB.                                      \n",
      "Copying file://pipeline/transform_utils.py [Content-Type=text/x-python]...\n",
      "/ [1 files][  2.5 KiB/  2.5 KiB]                                                \n",
      "Operation completed over 1 objects/2.5 KiB.                                      \n",
      "Copying file://pipeline/train_utils.py [Content-Type=text/x-python]...\n",
      "/ [1 files][ 10.0 KiB/ 10.0 KiB]                                                \n",
      "Operation completed over 1 objects/10.0 KiB.                                     \n"
     ]
    }
   ],
   "source": [
    "# Move data to GCS\n",
    "!gsutil cp data/IMDB_dataset.csv {configs.DATA_ROOT}/\n",
    "\n",
    "# Move modelues to GCS\n",
    "!gsutil cp {_transform_module_path} {configs.MODULE_ROOT}/\n",
    "!gsutil cp {_trainer_module_path} {configs.MODULE_ROOT}/"
   ]
  },
  {
   "cell_type": "code",
   "execution_count": 7,
   "id": "c06ccd19",
   "metadata": {},
   "outputs": [],
   "source": [
    "runner = kubeflow_v2_dag_runner.KubeflowV2DagRunner(\n",
    "    config=kubeflow_v2_dag_runner.KubeflowV2DagRunnerConfig(),\n",
    "    output_filename=configs.PIPELINE_DEFINITION_FILE)\n",
    "# Following function will write the pipeline definition to PIPELINE_DEFINITION_FILE.\n",
    "_ = runner.run(\n",
    "    pipeline.create_pipeline(\n",
    "        pipeline_name=configs.PIPELINE_NAME,\n",
    "        pipeline_root=configs.PIPELINE_ROOT,\n",
    "        data_root=configs.DATA_ROOT,\n",
    "        transform_module_path=os.path.join(configs.MODULE_ROOT, _transform_module_file),\n",
    "        train_module_path=os.path.join(configs.MODULE_ROOT, _trainer_module_file),\n",
    "        train_args=trainer_pb2.TrainArgs(num_steps=configs.TRAIN_NUM_STEPS),\n",
    "        eval_args=trainer_pb2.EvalArgs(num_steps=configs.EVAL_NUM_STEPS),\n",
    "        eval_accuracy_threshold=configs.EVAL_ACCURACY_THRESHOLD,\n",
    "        serving_model_dir=configs.SERVING_MODEL_DIR,\n",
    "        enable_tuning=configs.ENABLE_TUNNING,\n",
    "    ))"
   ]
  },
  {
   "cell_type": "code",
   "execution_count": 8,
   "id": "7e11a278",
   "metadata": {},
   "outputs": [
    {
     "data": {
      "text/html": [
       "See the Pipeline job <a href=\"https://console.cloud.google.com/vertex-ai/locations/us-central1/pipelines/runs/bert-aas-vertex-pipelines-20210624005047?project=gcp-bert-aas\" target=\"_blank\" >here</a>."
      ],
      "text/plain": [
       "<IPython.core.display.HTML object>"
      ]
     },
     "metadata": {},
     "output_type": "display_data"
    }
   ],
   "source": [
    "pipelines_client = client.AIPlatformClient(\n",
    "    project_id=configs.GOOGLE_CLOUD_PROJECT,\n",
    "    region=configs.GOOGLE_CLOUD_REGION,\n",
    ")\n",
    "\n",
    "_ = pipelines_client.create_run_from_job_spec(configs.PIPELINE_DEFINITION_FILE)"
   ]
  }
 ],
 "metadata": {
  "environment": {
   "name": "tf2-gpu.2-5.m71",
   "type": "gcloud",
   "uri": "gcr.io/deeplearning-platform-release/tf2-gpu.2-5:m71"
  },
  "kernelspec": {
   "display_name": "Python 3",
   "language": "python",
   "name": "python3"
  },
  "language_info": {
   "codemirror_mode": {
    "name": "ipython",
    "version": 3
   },
   "file_extension": ".py",
   "mimetype": "text/x-python",
   "name": "python",
   "nbconvert_exporter": "python",
   "pygments_lexer": "ipython3",
   "version": "3.7.10"
  }
 },
 "nbformat": 4,
 "nbformat_minor": 5
}
